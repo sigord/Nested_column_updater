{
 "cells": [
  {
   "cell_type": "code",
   "execution_count": null,
   "metadata": {},
   "outputs": [],
   "source": [
    "#TODO"
   ]
  }
 ],
 "metadata": {
  "kernelspec": {
   "display_name": "Python 3.7.11 ('bdt-python-course')",
   "language": "python",
   "name": "python3"
  },
  "language_info": {
   "name": "python",
   "version": "3.7.11"
  },
  "orig_nbformat": 4,
  "vscode": {
   "interpreter": {
    "hash": "0f00f28d4367d31402515f7f5f2ec40219d13923cfdc188ad73f455f4d897bcb"
   }
  }
 },
 "nbformat": 4,
 "nbformat_minor": 2
}
